{
  "nbformat": 4,
  "nbformat_minor": 0,
  "metadata": {
    "colab": {
      "name": "PB Public.ipynb",
      "provenance": [],
      "authorship_tag": "ABX9TyO2sIgK3qwunB1mR4BApGp2",
      "include_colab_link": true
    },
    "kernelspec": {
      "name": "python3",
      "display_name": "Python 3"
    }
  },
  "cells": [
    {
      "cell_type": "markdown",
      "metadata": {
        "id": "view-in-github",
        "colab_type": "text"
      },
      "source": [
        "<a href=\"https://colab.research.google.com/github/pbrugimail/PB-Public-/blob/master/PB_Public.ipynb\" target=\"_parent\"><img src=\"https://colab.research.google.com/assets/colab-badge.svg\" alt=\"Open In Colab\"/></a>"
      ]
    },
    {
      "cell_type": "markdown",
      "metadata": {
        "id": "0CUk9FcHL0QZ",
        "colab_type": "text"
      },
      "source": [
        "Test online course\n",
        "text can be typed with LateX instructions for example\n",
        "$\\sqrt{3x-1}+(1+x)^2$\n",
        "more info on \n",
        "https://colab.research.google.com/notebooks/intro.ipynb#scrollTo=gJr_9dXGpJ05 and on\n",
        "https://colab.research.google.com/notebooks/basic_features_overview.ipynb#scrollTo=Id6tDF1HQSHD\n"
      ]
    },
    {
      "cell_type": "code",
      "metadata": {
        "id": "BOyQNLLfDoec",
        "colab_type": "code",
        "colab": {
          "base_uri": "https://localhost:8080/",
          "height": 34
        },
        "outputId": "a2c3d99a-3c17-41bc-a280-c23ededcfa33"
      },
      "source": [
        "print (1+1)"
      ],
      "execution_count": 2,
      "outputs": [
        {
          "output_type": "stream",
          "text": [
            "2\n"
          ],
          "name": "stdout"
        }
      ]
    },
    {
      "cell_type": "code",
      "metadata": {
        "id": "PHfTCuSZToKl",
        "colab_type": "code",
        "colab": {}
      },
      "source": [
        ""
      ],
      "execution_count": 0,
      "outputs": []
    }
  ]
}