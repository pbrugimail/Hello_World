{
  "nbformat": 4,
  "nbformat_minor": 0,
  "metadata": {
    "colab": {
      "name": "PB Public.ipynb",
      "provenance": [],
      "toc_visible": true,
      "authorship_tag": "ABX9TyMJKBXAibto9fRqGcXDt1k/",
      "include_colab_link": true
    },
    "kernelspec": {
      "name": "python3",
      "display_name": "Python 3"
    }
  },
  "cells": [
    {
      "cell_type": "markdown",
      "metadata": {
        "id": "view-in-github",
        "colab_type": "text"
      },
      "source": [
        "<a href=\"https://colab.research.google.com/github/pbrugimail/PB-Public-/blob/master/PB_Public.ipynb\" target=\"_parent\"><img src=\"https://colab.research.google.com/assets/colab-badge.svg\" alt=\"Open In Colab\"/></a>"
      ]
    },
    {
      "cell_type": "markdown",
      "metadata": {
        "id": "0CUk9FcHL0QZ",
        "colab_type": "text"
      },
      "source": [
        "# Section\n",
        "\n",
        "*italic* \n",
        "\n",
        "**bold**\n",
        "\n",
        "LateX : $\\sqrt{3x-1}+(1+x)^2$\n",
        "\n",
        "more infos:\n",
        "\n",
        "https://colab.research.google.com/notebooks/intro.ipynb#scrollTo=gJr_9dXGpJ05 \n",
        "\n",
        "\n",
        "https://colab.research.google.com/notebooks/basic_features_overview.ipynb#scrollTo=Id6tDF1HQSHD\n",
        "\n",
        "writing a report in Colab :\n",
        "https://www.youtube.com/watch?v=ZKGcxsgTVmo\n",
        "\n",
        "https://colab.research.google.com/github/ageron/tf2_course/blob/master/\n"
      ]
    },
    {
      "cell_type": "markdown",
      "metadata": {
        "id": "EQmth44Kg6ll",
        "colab_type": "text"
      },
      "source": [
        "## Subsection 1"
      ]
    },
    {
      "cell_type": "markdown",
      "metadata": {
        "id": "BsCREtHkg7EK",
        "colab_type": "text"
      },
      "source": [
        "## Subsection 2"
      ]
    },
    {
      "cell_type": "markdown",
      "metadata": {
        "id": "t_H9Rrmmg8WB",
        "colab_type": "text"
      },
      "source": [
        "## Subsection 3"
      ]
    },
    {
      "cell_type": "code",
      "metadata": {
        "id": "BOyQNLLfDoec",
        "colab_type": "code",
        "outputId": "3f7991bd-eadf-4f9f-89e0-1cc7b30fe1e1",
        "colab": {
          "base_uri": "https://localhost:8080/",
          "height": 34
        }
      },
      "source": [
        "print (1+1)"
      ],
      "execution_count": 2,
      "outputs": [
        {
          "output_type": "stream",
          "text": [
            "2\n"
          ],
          "name": "stdout"
        }
      ]
    },
    {
      "cell_type": "markdown",
      "metadata": {
        "id": "Nnzvn9jMhz-I",
        "colab_type": "text"
      },
      "source": [
        "## Subsection 4"
      ]
    },
    {
      "cell_type": "markdown",
      "metadata": {
        "id": "KuSYp2dsicEy",
        "colab_type": "text"
      },
      "source": [
        "### subsubsection 4.1"
      ]
    },
    {
      "cell_type": "markdown",
      "metadata": {
        "id": "qPnuVqRoipYV",
        "colab_type": "text"
      },
      "source": [
        "### subsubsection 4.2"
      ]
    }
  ]
}