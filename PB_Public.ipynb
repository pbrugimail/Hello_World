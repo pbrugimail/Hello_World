{
  "nbformat": 4,
  "nbformat_minor": 0,
  "metadata": {
    "colab": {
      "name": "PB Public.ipynb",
      "provenance": [],
      "authorship_tag": "ABX9TyPM5fKJ48QSSFkUantGTJ1V",
      "include_colab_link": true
    },
    "kernelspec": {
      "name": "python3",
      "display_name": "Python 3"
    }
  },
  "cells": [
    {
      "cell_type": "markdown",
      "metadata": {
        "id": "view-in-github",
        "colab_type": "text"
      },
      "source": [
        "<a href=\"https://colab.research.google.com/github/pbrugimail/PB-Public-/blob/master/PB_Public.ipynb\" target=\"_parent\"><img src=\"https://colab.research.google.com/assets/colab-badge.svg\" alt=\"Open In Colab\"/></a>"
      ]
    },
    {
      "cell_type": "markdown",
      "metadata": {
        "id": "0CUk9FcHL0QZ",
        "colab_type": "text"
      },
      "source": [
        "## Section\n",
        "# subsection 1\n",
        "# subsection 2\n",
        "*italic* \n",
        "\n",
        "**bold**\n",
        "\n",
        "LateX : $\\sqrt{3x-1}+(1+x)^2$\n",
        "\n",
        "more infos:\n",
        "\n",
        "https://colab.research.google.com/notebooks/intro.ipynb#scrollTo=gJr_9dXGpJ05 \n",
        "\n",
        "\n",
        "https://colab.research.google.com/notebooks/basic_features_overview.ipynb#scrollTo=Id6tDF1HQSHD\n",
        "\n",
        "writing a report in Colab :\n",
        "https://www.youtube.com/watch?v=ZKGcxsgTVmo\n"
      ]
    },
    {
      "cell_type": "code",
      "metadata": {
        "id": "BOyQNLLfDoec",
        "colab_type": "code",
        "outputId": "49caa777-2bf6-40b7-c19b-09c80af86b14",
        "colab": {
          "base_uri": "https://localhost:8080/",
          "height": 34
        }
      },
      "source": [
        "print (1+1)"
      ],
      "execution_count": 1,
      "outputs": [
        {
          "output_type": "stream",
          "text": [
            "2\n"
          ],
          "name": "stdout"
        }
      ]
    },
    {
      "cell_type": "code",
      "metadata": {
        "id": "PHfTCuSZToKl",
        "colab_type": "code",
        "colab": {}
      },
      "source": [
        ""
      ],
      "execution_count": 0,
      "outputs": []
    }
  ]
}