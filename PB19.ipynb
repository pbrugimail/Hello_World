{
  "cells": [
    {
      "cell_type": "markdown",
      "metadata": {
        "id": "view-in-github",
        "colab_type": "text"
      },
      "source": [
        "<a href=\"https://colab.research.google.com/github/pbrugimail/PB-Public/blob/master/PB19.ipynb\" target=\"_parent\"><img src=\"https://colab.research.google.com/assets/colab-badge.svg\" alt=\"Open In Colab\"/></a>"
      ]
    },
    {
      "cell_type": "markdown",
      "source": [
        "#Supervised Learning - a few examples\n",
        "(Pierre Brugière - October 2022)\n",
        "\n",
        "Code coming mainly from: \"Python for Data Science (for dummies)\" JP Mueller, Luca Massaron John Wiley and Sons 2019 https://www.wiley.com/en-us/Python+for+Data+Science+For+Dummies,+2nd+Edition-p-9781119547662#downloads-section and from the sklearn tutorials https://scikit-learn.org/stable/modules/svm.html"
      ],
      "metadata": {
        "id": "lbsUt8mvKrIM"
      }
    },
    {
      "cell_type": "markdown",
      "metadata": {
        "id": "7U9TsRjQPTSn"
      },
      "source": [
        "## Boston data set"
      ]
    },
    {
      "cell_type": "code",
      "execution_count": 133,
      "metadata": {
        "colab": {
          "base_uri": "https://localhost:8080/"
        },
        "id": "AOtMZ77ZPTSn",
        "outputId": "14c90e00-a9c3-46a0-88a7-40d0c3cfaa01"
      },
      "outputs": [
        {
          "output_type": "stream",
          "name": "stdout",
          "text": [
            "(506, 13) (506,) ['CRIM' 'ZN' 'INDUS' 'CHAS' 'NOX' 'RM' 'AGE' 'DIS' 'RAD' 'TAX' 'PTRATIO'\n",
            " 'B' 'LSTAT']\n"
          ]
        },
        {
          "output_type": "stream",
          "name": "stderr",
          "text": [
            "/usr/local/lib/python3.7/dist-packages/sklearn/utils/deprecation.py:87: FutureWarning: Function load_boston is deprecated; `load_boston` is deprecated in 1.0 and will be removed in 1.2.\n",
            "\n",
            "    The Boston housing prices dataset has an ethical problem. You can refer to\n",
            "    the documentation of this function for further details.\n",
            "\n",
            "    The scikit-learn maintainers therefore strongly discourage the use of this\n",
            "    dataset unless the purpose of the code is to study and educate about\n",
            "    ethical issues in data science and machine learning.\n",
            "\n",
            "    In this special case, you can fetch the dataset from the original\n",
            "    source::\n",
            "\n",
            "        import pandas as pd\n",
            "        import numpy as np\n",
            "\n",
            "\n",
            "        data_url = \"http://lib.stat.cmu.edu/datasets/boston\"\n",
            "        raw_df = pd.read_csv(data_url, sep=\"\\s+\", skiprows=22, header=None)\n",
            "        data = np.hstack([raw_df.values[::2, :], raw_df.values[1::2, :2]])\n",
            "        target = raw_df.values[1::2, 2]\n",
            "\n",
            "    Alternative datasets include the California housing dataset (i.e.\n",
            "    :func:`~sklearn.datasets.fetch_california_housing`) and the Ames housing\n",
            "    dataset. You can load the datasets as follows::\n",
            "\n",
            "        from sklearn.datasets import fetch_california_housing\n",
            "        housing = fetch_california_housing()\n",
            "\n",
            "    for the California housing dataset and::\n",
            "\n",
            "        from sklearn.datasets import fetch_openml\n",
            "        housing = fetch_openml(name=\"house_prices\", as_frame=True)\n",
            "\n",
            "    for the Ames housing dataset.\n",
            "    \n",
            "  warnings.warn(msg, category=FutureWarning)\n"
          ]
        }
      ],
      "source": [
        "from sklearn.datasets import load_boston\n",
        "import random\n",
        "from random import shuffle\n",
        "\n",
        "boston = load_boston()\n",
        "random.seed(0) # Creates a replicable shuffling\n",
        "new_index = list(range(boston.data.shape[0]))\n",
        "shuffle(new_index) # shuffling the index\n",
        "X, y = boston.data[new_index], boston.target[new_index] # takes the values in the order of the new_index\n",
        "print(X.shape, y.shape, boston.feature_names) # X is a np.array of shape (506,13) \n",
        "# print(boston.DESCR) # description of the database"
      ]
    },
    {
      "cell_type": "code",
      "source": [
        "boston.feature_names.shape"
      ],
      "metadata": {
        "colab": {
          "base_uri": "https://localhost:8080/"
        },
        "id": "tmdwAa7nPRL3",
        "outputId": "e59d7377-9ede-4772-f287-4d756696f7a8"
      },
      "execution_count": 134,
      "outputs": [
        {
          "output_type": "execute_result",
          "data": {
            "text/plain": [
              "(13,)"
            ]
          },
          "metadata": {},
          "execution_count": 134
        }
      ]
    },
    {
      "cell_type": "markdown",
      "metadata": {
        "id": "jWfYcAiMPTSj"
      },
      "source": [
        "## Non-linear transformations"
      ]
    },
    {
      "cell_type": "code",
      "execution_count": 135,
      "metadata": {
        "scrolled": true,
        "colab": {
          "base_uri": "https://localhost:8080/",
          "height": 279
        },
        "id": "hMd3B-HAPTSq",
        "outputId": "a9452b30-d727-4dfe-9f35-dc34b71c04b7"
      },
      "outputs": [
        {
          "output_type": "display_data",
          "data": {
            "text/plain": [
              "<Figure size 432x288 with 1 Axes>"
            ],
            "image/png": "[encoded data removed]"
          },
          "metadata": {
            "needs_background": "light"
          }
        }
      ],
      "source": [
        "# Examination of the impact of a particular variable \n",
        "import pandas as pd\n",
        "df =pd.DataFrame(X,columns=boston.feature_names) #transform into a pdDataFrame\n",
        "# boston.feature_names is a np.array (13,)\n",
        "df['target'] =y\n",
        "%matplotlib inline\n",
        "ax = df.plot(kind='scatter', x='LSTAT', y='target', c='b')"
      ]
    },
    {
      "cell_type": "code",
      "execution_count": 136,
      "metadata": {
        "colab": {
          "base_uri": "https://localhost:8080/"
        },
        "id": "-_uISbUHPTSr",
        "outputId": "520b9a50-0b94-4a42-d4e4-955aa7cc0651"
      },
      "outputs": [
        {
          "output_type": "stream",
          "name": "stdout",
          "text": [
            "F score for the original feature 601.6\n",
            "F score for the transformed feature 1000.2\n"
          ]
        }
      ],
      "source": [
        "# Test of significance and choice of the best transformation\n",
        "import numpy as np\n",
        "from sklearn.feature_selection import f_regression\n",
        "single_variable = df['LSTAT'].values.reshape(-1, 1) # transform from (506,) into (506,1)\n",
        "F, pval = f_regression(single_variable, y) # y is a np(506,1)\n",
        "print('F score for the original feature %.1f' % F)\n",
        "F, pval = f_regression(np.log(single_variable),y)\n",
        "print('F score for the transformed feature %.1f' % F)\n"
      ]
    },
    {
      "cell_type": "markdown",
      "metadata": {
        "id": "fcPaI0zmPTSv"
      },
      "source": [
        "# Regularised regressions (Gridsearch and K-fold crossvalidation)"
      ]
    },
    {
      "cell_type": "markdown",
      "source": [
        "These models contained some hyperparameters which define the regularisation. These hyperparameters are searched using GridSearch and the best peforming hyperparameters are determined by Crossvalidation. The hyperparameters selected are those who achieve the best average score on the K-fold."
      ],
      "metadata": {
        "id": "4ohebx11UrI4"
      }
    },
    {
      "cell_type": "code",
      "execution_count": 137,
      "metadata": {
        "id": "Zq-zPOzDPTSs"
      },
      "outputs": [],
      "source": [
        "from sklearn.linear_model import LinearRegression\n",
        "from sklearn.model_selection  import cross_val_score, KFold\n",
        "regression = LinearRegression(normalize=True)\n",
        "crossvalidation = KFold(n_splits=10, shuffle=True, random_state=1)"
      ]
    },
    {
      "cell_type": "markdown",
      "metadata": {
        "id": "2o_ZVx7KPTSv"
      },
      "source": [
        "## Ridge regression"
      ]
    },
    {
      "cell_type": "markdown",
      "source": [
        "Objective = MSE + α * (sum of square of coefficients) \n",
        "\n",
        "α is the hyperparameter"
      ],
      "metadata": {
        "id": "5GgCk4uSR9FG"
      }
    },
    {
      "cell_type": "code",
      "source": [
        "from sklearn.model_selection import GridSearchCV\n",
        "from sklearn.linear_model import Ridge\n",
        "from sklearn.preprocessing import StandardScaler\n",
        "X = StandardScaler().fit_transform(X) # calculate the parameters for renormalisation\n",
        "ridge = Ridge()\n",
        "search_grid = {'alpha':np.logspace(-5,2,8)} # search values for the optimal penalisation parameter alpha\n",
        "search = GridSearchCV(estimator=ridge, \n",
        "                      param_grid=search_grid, \n",
        "                      scoring='neg_mean_squared_error', \n",
        "                      refit=True, cv=10) # will calculate the parameters on the whole sample \n",
        "                      # with the best hyperparameters found on the K-folds\n",
        "search.fit(X,y)\n",
        "print('Best parameters: %s' % search.best_params_)\n",
        "score = abs(search.best_score_)\n",
        "print('CV MSE of best parameters: %.3f' % score)\n",
        "# graph real value vs estimated value \n",
        "search.predict(X)\n",
        "Pred = search.predict(X)\n",
        "plt.scatter(Pred,y)\n",
        "plt.title(\"Ridge regression\")\n",
        "plt.xlabel('house prices estimated')\n",
        "plt.ylabel('house prices observed')\n",
        "plt.plot([0, 50], [0, 50],color=\"green\")\n",
        "plt.show()"
      ],
      "metadata": {
        "colab": {
          "base_uri": "https://localhost:8080/",
          "height": 331
        },
        "id": "gk9bmltObWbL",
        "outputId": "3c0fd437-3e0f-4081-d8f6-875334cffb41"
      },
      "execution_count": 162,
      "outputs": [
        {
          "output_type": "stream",
          "name": "stdout",
          "text": [
            "Best parameters: {'alpha': 10.0}\n",
            "CV MSE of best parameters: 24.231\n"
          ]
        },
        {
          "output_type": "display_data",
          "data": {
            "text/plain": [
              "<Figure size 432x288 with 1 Axes>"
            ],
            "image/png": "[encoded data removed]"
          },
          "metadata": {
            "needs_background": "light"
          }
        }
      ]
    },
    {
      "cell_type": "markdown",
      "metadata": {
        "id": "wHA_FTBXPTSw"
      },
      "source": [
        "## Lasso regression"
      ]
    },
    {
      "cell_type": "markdown",
      "source": [
        "Objective =  MSE + α * (sum of absolute value of coefficients)\n",
        "\n",
        "α is the hyperparameter"
      ],
      "metadata": {
        "id": "Tu7hT0W4SUFO"
      }
    },
    {
      "cell_type": "code",
      "source": [
        "from sklearn.model_selection import GridSearchCV\n",
        "from sklearn.linear_model import Lasso\n",
        "from sklearn.preprocessing import StandardScaler\n",
        "\n",
        "X = StandardScaler().fit_transform(X)\n",
        "lasso = Lasso(tol=0.05, selection='random') #tol control the degree of precision for the minimum\n",
        "search_grid = {'alpha':np.logspace(-5,3,8)}\n",
        "search = GridSearchCV(estimator=lasso, \n",
        "                      param_grid=search_grid, \n",
        "                      scoring='neg_mean_squared_error', \n",
        "                      refit=True, cv=10)\n",
        "search.fit(X,y)\n",
        "print('Best parameters: %s' % search.best_params_)\n",
        "score = abs(search.best_score_)\n",
        "print('CV MSE of best parameters: %.3f' % score)\n",
        "print ('coeff of the regression: ' , search.best_estimator_.coef_)\n",
        "# graph real value vs estimated value \n",
        "search.predict(X)\n",
        "Pred = search.predict(X)\n",
        "plt.scatter(Pred,y)\n",
        "plt.title(\"Lasso regression\")\n",
        "plt.xlabel('house prices estimated')\n",
        "plt.ylabel('house prices observed')\n",
        "plt.plot([0, 50], [0, 50],color=\"green\")\n",
        "plt.show()"
      ],
      "metadata": {
        "colab": {
          "base_uri": "https://localhost:8080/",
          "height": 384
        },
        "id": "-sOWqaBggChG",
        "outputId": "f93f2e54-ac0c-4b2b-ce9d-159e5ac74752"
      },
      "execution_count": 159,
      "outputs": [
        {
          "output_type": "stream",
          "name": "stdout",
          "text": [
            "Best parameters: {'alpha': 0.0019306977288832496}\n",
            "CV MSE of best parameters: 24.247\n",
            "coeff of the regression:  [-0.92138716  1.06833614  0.11361958  0.6838813  -2.03725145  2.68046166\n",
            "  0.00852091 -3.09603147  2.60036332 -2.01378989 -2.05522504  0.84759354\n",
            " -3.73760252]\n"
          ]
        },
        {
          "output_type": "display_data",
          "data": {
            "text/plain": [
              "<Figure size 432x288 with 1 Axes>"
            ],
            "image/png": "[encoded data removed]"
          },
          "metadata": {
            "needs_background": "light"
          }
        }
      ]
    },
    {
      "cell_type": "code",
      "execution_count": 28,
      "metadata": {
        "id": "OJKqUrSdPTSw",
        "outputId": "7e82c56a-c8bc-4208-d22e-a3a837f49e41",
        "colab": {
          "base_uri": "https://localhost:8080/"
        }
      },
      "outputs": [
        {
          "output_type": "stream",
          "name": "stdout",
          "text": [
            "['CRIM' 'ZN' 'INDUS' 'CHAS' 'NOX' 'RM' 'DIS' 'RAD' 'TAX' 'PTRATIO' 'B'\n",
            " 'LSTAT']\n"
          ]
        }
      ],
      "source": [
        "# Finding the most relevant variables\n",
        "lasso = Lasso(alpha=0.01)\n",
        "lasso.fit(X,y)\n",
        "print(df.columns[0:13][np.abs(lasso.coef_)>0.0001].values) # normalized variables with the most significant coeff"
      ]
    },
    {
      "cell_type": "markdown",
      "metadata": {
        "id": "rxb5Lu4rPTSx"
      },
      "source": [
        "## Elasticnet (Lasso + Ridge)"
      ]
    },
    {
      "cell_type": "markdown",
      "source": [
        "Objective =  MSE + α * (sum of square of coefficients) + l1_ratio * (sum of absolute value of coefficients)\n",
        "\n",
        "α and l1_ratio are the hyperparameters"
      ],
      "metadata": {
        "id": "2HCC4-ofV3cM"
      }
    },
    {
      "cell_type": "code",
      "execution_count": 168,
      "metadata": {
        "id": "Ww5Uz4wEPTSx",
        "outputId": "1846ffa6-c918-462e-9247-988aabf0ffe4",
        "colab": {
          "base_uri": "https://localhost:8080/",
          "height": 331
        }
      },
      "outputs": [
        {
          "output_type": "stream",
          "name": "stdout",
          "text": [
            "Best parameters: {'alpha': 0.01, 'l1_ratio': 0.75}\n",
            "CV MSE of best parameters: 24.213\n"
          ]
        },
        {
          "output_type": "display_data",
          "data": {
            "text/plain": [
              "<Figure size 432x288 with 1 Axes>"
            ],
            "image/png": "[encoded data removed]"
          },
          "metadata": {
            "needs_background": "light"
          }
        }
      ],
      "source": [
        "from sklearn.linear_model import ElasticNet\n",
        "X = StandardScaler().fit_transform(X)\n",
        "elastic = ElasticNet(selection='random')\n",
        "search_grid = {'alpha':np.logspace(-4,3,8), \n",
        "               'l1_ratio': [0.10 ,0.25, 0.5, 0.75]}\n",
        "search = GridSearchCV(estimator=elastic, \n",
        "                      param_grid=search_grid, \n",
        "                      scoring='neg_mean_squared_error', \n",
        "                      refit=True, cv=10)\n",
        "search.fit(X,y)\n",
        "print('Best parameters: %s' % search.best_params_)\n",
        "score = abs(search.best_score_)\n",
        "print('CV MSE of best parameters: %.3f' % score)\n",
        "# graph real value vs estimated value \n",
        "search.predict(X)\n",
        "Pred = search.predict(X)\n",
        "plt.scatter(Pred,y)\n",
        "plt.title(\"Elastic Net regression\")\n",
        "plt.xlabel('house prices estimated')\n",
        "plt.ylabel('house prices observed')\n",
        "plt.plot([0, 50], [0, 50],color=\"green\")\n",
        "plt.show()"
      ]
    },
    {
      "cell_type": "markdown",
      "metadata": {
        "id": "BhIgbFw7PTSx"
      },
      "source": [
        "# Stochastic Gradient Descent\n",
        " SGD optimizes the coefficients one observation at a time (or potentially batch by batch) if the memory cannot hold all the data in one go. The number of epochs is the number of times the whole data is passed through the SGD.\n",
        "\n",
        "For SGD to be more robust it is usually advised to use as the loss function modified_huber for classification or huber for regression.\n",
        "\n"
      ]
    },
    {
      "cell_type": "markdown",
      "source": [
        "## SGD applied to regression models"
      ],
      "metadata": {
        "id": "d0Oj7kfxi9S4"
      }
    },
    {
      "cell_type": "markdown",
      "source": [
        "Regularised regression linear models can be optimised according to the SGD algorithm"
      ],
      "metadata": {
        "id": "SbSa3OuRllVm"
      }
    },
    {
      "cell_type": "code",
      "execution_count": 163,
      "metadata": {
        "id": "rgNTAAnAPTSx",
        "outputId": "05d30cb2-2bb2-41a7-cbde-41c975ad64f1",
        "colab": {
          "base_uri": "https://localhost:8080/"
        }
      },
      "outputs": [
        {
          "output_type": "stream",
          "name": "stdout",
          "text": [
            "CV MSE: 23.948\n"
          ]
        }
      ],
      "source": [
        "# SGD for regression\n",
        "from sklearn.linear_model import SGDRegressor\n",
        "from sklearn.preprocessing import StandardScaler\n",
        "\n",
        "SGD = SGDRegressor(loss='squared_error', \n",
        "                   penalty='l2', #ridge penalisation\n",
        "                   alpha=0.0001, \n",
        "                   l1_ratio=0.15, #lasso penalisation\n",
        "                   max_iter=2000, # number of epochs\n",
        "                   random_state=1)\n",
        "scaling = StandardScaler()\n",
        "scaling.fit(X) # scaling is determined from X\n",
        "scaled_X = scaling.transform(X)\n",
        "cv = cross_val_score(SGD, scaled_X, y, \n",
        "         scoring='neg_mean_squared_error', \n",
        "         cv=crossvalidation) # cv contains the MSE for the K-fold\n",
        "score = abs(np.mean(cv))\n",
        "print('CV MSE: %.3f' % score)"
      ]
    },
    {
      "cell_type": "code",
      "execution_count": 164,
      "metadata": {
        "id": "pueK_25RPTSx"
      },
      "outputs": [],
      "source": [
        "# Measuring the improvements for each SGD of an Elasticnet model\n",
        "from sklearn.metrics import mean_squared_error\n",
        "from sklearn.model_selection import train_test_split\n",
        "X_tr, X_t, y_tr, y_t = train_test_split(scaled_X, y, \n",
        "                                        test_size=0.20, \n",
        "                                        random_state=2)\n",
        "SGD = SGDRegressor(loss='squared_error', \n",
        "                   penalty='l2', \n",
        "                   alpha=0.0001, \n",
        "                   l1_ratio=0.15, \n",
        "                   max_iter=2000,\n",
        "                   random_state=1)\n",
        "improvements = list()\n",
        "for z in range(10000):\n",
        "    SGD.partial_fit(X_tr, y_tr) # approximate after each SGD\n",
        "    score = mean_squared_error(y_t, SGD.predict(X_t))\n",
        "    improvements.append(score)"
      ]
    },
    {
      "cell_type": "code",
      "execution_count": 41,
      "metadata": {
        "scrolled": true,
        "id": "Opl1gvdHPTSx",
        "outputId": "e07b9a54-3e63-476a-e123-84388a666a84",
        "colab": {
          "base_uri": "https://localhost:8080/",
          "height": 279
        }
      },
      "outputs": [
        {
          "output_type": "display_data",
          "data": {
            "text/plain": [
              "<Figure size 576x288 with 2 Axes>"
            ],
            "image/png": "[encoded data removed]"
          },
          "metadata": {
            "needs_background": "light"
          }
        }
      ],
      "source": [
        "import matplotlib.pyplot as plt\n",
        "plt.figure(figsize=(8, 4))\n",
        "plt.subplot(1,2,1)\n",
        "range_1 = range(1,101,10) # every 10 from 1 ro 101\n",
        "score_1 = np.abs(improvements[:100:10]) # every 10 from 0 to 99\n",
        "plt.plot(range_1, score_1,'o--')\n",
        "plt.xlabel('Iterations up to 100')\n",
        "plt.ylabel('Test mean squared error')\n",
        "plt.subplot(1,2,2)\n",
        "range_2 = range(100,10000,500)\n",
        "score_2 = np.abs(improvements[100:10000:500])\n",
        "plt.plot(range_2, score_2,'o--')\n",
        "plt.xlabel('Iterations from 101 to 10000')\n",
        "plt.show()"
      ]
    },
    {
      "cell_type": "code",
      "source": [
        "SGD.fit(X_tr, y_tr) # approximate after each SGD\n",
        "score = mean_squared_error(y_t, SGD.predict(X_t))\n",
        "Pred = SGD.predict(X_t)\n",
        "plt.scatter(Pred,y_t)\n",
        "plt.title(\"Elasticnet SGD regression\")\n",
        "plt.xlabel('house prices estimated')\n",
        "plt.ylabel('house prices observed')\n",
        "plt.plot([0, 50], [0, 50],color=\"green\")\n",
        "plt.show()"
      ],
      "metadata": {
        "colab": {
          "base_uri": "https://localhost:8080/",
          "height": 295
        },
        "id": "VLh3wMSHmfZv",
        "outputId": "1c8cad8e-45f8-4cdd-c4b5-729e9fb43369"
      },
      "execution_count": 167,
      "outputs": [
        {
          "output_type": "display_data",
          "data": {
            "text/plain": [
              "<Figure size 432x288 with 1 Axes>"
            ],
            "image/png": "[encoded data removed]"
          },
          "metadata": {
            "needs_background": "light"
          }
        }
      ]
    },
    {
      "cell_type": "markdown",
      "metadata": {
        "id": "vwYd8V_cPTSz"
      },
      "source": [
        "# Regression with SVR"
      ]
    },
    {
      "cell_type": "markdown",
      "source": [
        "Here we search :\n",
        "$$\\min\\limits_{w,b}\\frac{1}{2}\\|w\\|^2+ C\\sum\\limits max(0,|y_i-(<w,\\phi(x_i)>+b)|-\\epsilon)$$ \n",
        "and we have \n",
        "$$K(x_i,x_j)=<\\phi(x_i),\\phi(x_j)>$$\n",
        "\n",
        "So, the aim is to find a function of $w,b$ which approximates the values $y_i$ and which is as simple as possible by penalizing on  $\\|w\\|$. So compare to SVC, the term $\\frac{1}{2}\\|w\\|^2$  here is not the objective term but the penalisation term.\n"
      ],
      "metadata": {
        "id": "-4AaGNfBIYWF"
      }
    },
    {
      "cell_type": "code",
      "execution_count": 169,
      "metadata": {
        "id": "goaK_wHAPTSz",
        "colab": {
          "base_uri": "https://localhost:8080/"
        },
        "outputId": "e3e607c0-b1c9-44c5-a6c9-8c5db47933f3"
      },
      "outputs": [
        {
          "output_type": "stream",
          "name": "stderr",
          "text": [
            "/usr/local/lib/python3.7/dist-packages/sklearn/utils/deprecation.py:87: FutureWarning: Function load_boston is deprecated; `load_boston` is deprecated in 1.0 and will be removed in 1.2.\n",
            "\n",
            "    The Boston housing prices dataset has an ethical problem. You can refer to\n",
            "    the documentation of this function for further details.\n",
            "\n",
            "    The scikit-learn maintainers therefore strongly discourage the use of this\n",
            "    dataset unless the purpose of the code is to study and educate about\n",
            "    ethical issues in data science and machine learning.\n",
            "\n",
            "    In this special case, you can fetch the dataset from the original\n",
            "    source::\n",
            "\n",
            "        import pandas as pd\n",
            "        import numpy as np\n",
            "\n",
            "\n",
            "        data_url = \"http://lib.stat.cmu.edu/datasets/boston\"\n",
            "        raw_df = pd.read_csv(data_url, sep=\"\\s+\", skiprows=22, header=None)\n",
            "        data = np.hstack([raw_df.values[::2, :], raw_df.values[1::2, :2]])\n",
            "        target = raw_df.values[1::2, 2]\n",
            "\n",
            "    Alternative datasets include the California housing dataset (i.e.\n",
            "    :func:`~sklearn.datasets.fetch_california_housing`) and the Ames housing\n",
            "    dataset. You can load the datasets as follows::\n",
            "\n",
            "        from sklearn.datasets import fetch_california_housing\n",
            "        housing = fetch_california_housing()\n",
            "\n",
            "    for the California housing dataset and::\n",
            "\n",
            "        from sklearn.datasets import fetch_openml\n",
            "        housing = fetch_openml(name=\"house_prices\", as_frame=True)\n",
            "\n",
            "    for the Ames housing dataset.\n",
            "    \n",
            "  warnings.warn(msg, category=FutureWarning)\n"
          ]
        }
      ],
      "source": [
        "from sklearn.model_selection import train_test_split\n",
        "from sklearn.model_selection import cross_val_score\n",
        "from sklearn.model_selection import GridSearchCV\n",
        "from sklearn.preprocessing import MinMaxScaler\n",
        "from sklearn.svm import SVR\n",
        "from sklearn import datasets\n",
        "\n",
        "boston = datasets.load_boston()\n",
        "X,y = boston.data, boston.target\n",
        "X_tr, X_t, y_tr, y_t = train_test_split(X, y, \n",
        "                                        test_size=0.3, \n",
        "                                        random_state=0)\n",
        "scaling = MinMaxScaler(feature_range=(-1, 1)).fit(X_tr)\n",
        "X_tr = scaling.transform(X_tr)\n",
        "X_t  = scaling.transform(X_t)"
      ]
    },
    {
      "cell_type": "code",
      "source": [
        "# SVR optimisation\n",
        "svr = SVR()\n",
        "search_space = [{'kernel': ['linear'], \n",
        "                 'C': np.logspace(-3, 2, 6), \n",
        "                 'epsilon': [0, 0.01, 0.1, 0.5, 1, 2, 4]},\n",
        "                {'kernel': ['rbf'], \n",
        "                 'C':np.logspace(-3, 3, 7), \n",
        "                 'gamma': np.logspace(-3, 2, 6), \n",
        "                 'epsilon': [0, 0.01, 0.1, 0.5, 1, 2, 4]}]\n",
        "gridsearch = GridSearchCV(svr, \n",
        "                          param_grid=search_space, \n",
        "                          refit=True, #recalibrate with the best found hyperparameters\n",
        "                          scoring= 'r2',\n",
        "                          cv=10, n_jobs=-1) # use the max number of available cores\n",
        "gridsearch.fit(X_tr, y_tr)\n",
        "cv = gridsearch.best_score_ # best average cross_validated score\n",
        "test_score = gridsearch.score(X_t, y_t)\n",
        "print('CV R2 score: %0.3f' % cv) \n",
        "print('Test R2 score: %0.3f' % test_score)\n",
        "print('Best parameters: %s' % gridsearch.best_params_)"
      ],
      "metadata": {
        "colab": {
          "base_uri": "https://localhost:8080/"
        },
        "id": "GQg6-n3am-o0",
        "outputId": "2770ae2e-0313-47d9-db37-d4c195b625dd"
      },
      "execution_count": 170,
      "outputs": [
        {
          "output_type": "stream",
          "name": "stdout",
          "text": [
            "CV R2 score: 0.869\n",
            "Test R2 score: 0.834\n",
            "Best parameters: {'C': 1000.0, 'epsilon': 2, 'gamma': 0.1, 'kernel': 'rbf'}\n"
          ]
        }
      ]
    },
    {
      "cell_type": "code",
      "source": [
        "Pred=gridsearch.predict(X_t)\n",
        "plt.scatter(Pred,y_t)\n",
        "plt.title(\"SCR regression\")\n",
        "plt.xlabel('house prices estimated')\n",
        "plt.ylabel('house prices observed')\n",
        "plt.plot([0, 50], [0, 50],color=\"green\")\n",
        "plt.show()"
      ],
      "metadata": {
        "colab": {
          "base_uri": "https://localhost:8080/",
          "height": 295
        },
        "id": "gGsDT1xurlRL",
        "outputId": "49b5c9ba-a128-45eb-f45c-e762cb358aff"
      },
      "execution_count": 173,
      "outputs": [
        {
          "output_type": "display_data",
          "data": {
            "text/plain": [
              "<Figure size 432x288 with 1 Axes>"
            ],
            "image/png": "[encoded data removed]"
          },
          "metadata": {
            "needs_background": "light"
          }
        }
      ]
    },
    {
      "cell_type": "markdown",
      "metadata": {
        "id": "eXqwh2zoPTSy"
      },
      "source": [
        "# Classification with SVC\n",
        "\n",
        "https://scikit-learn.org/stable/modules/svm.html\n",
        "\n",
        "https://stats.stackexchange.com/questions/31066/what-is-the-influence-of-c-in-svms-with-linear-kernel\n",
        "\n",
        "https://scikit-learn.org/stable/modules/svm.html#svm-classification\n"
      ]
    },
    {
      "cell_type": "markdown",
      "source": [
        "Here we search\n",
        "$$\\min\\limits_{w,b}\\frac{1}{2}\\|w\\|^2+ C\\sum\\limits max(0,1-y_i(<w,\\phi(x_i)>+b))$$ "
      ],
      "metadata": {
        "id": "ns3NjyeQt50h"
      }
    },
    {
      "cell_type": "markdown",
      "source": [
        "For C-SVMs the accuracy is calculated after classifying all the points, including those who are within the margins of the hyperplane. The function\n",
        "$$l(y,\\hat{y})=max(0,1-y\\hat{y}) $$ is called the hinge loss function."
      ],
      "metadata": {
        "id": "R3GxhwzaP-Gy"
      }
    },
    {
      "cell_type": "markdown",
      "source": [
        "## Digits data set"
      ],
      "metadata": {
        "id": "z5UdNkLBlm0k"
      }
    },
    {
      "cell_type": "code",
      "execution_count": 193,
      "metadata": {
        "id": "uyd5CvQ_PTSy",
        "colab": {
          "base_uri": "https://localhost:8080/",
          "height": 243
        },
        "outputId": "9a414053-91df-440d-af95-ab1a2c6720d8"
      },
      "outputs": [
        {
          "output_type": "display_data",
          "data": {
            "text/plain": [
              "<Figure size 432x288 with 10 Axes>"
            ],
            "image/png": "[encoded data removed]"
          },
          "metadata": {
            "needs_background": "light"
          }
        },
        {
          "output_type": "stream",
          "name": "stdout",
          "text": [
            "(array([0, 1, 2, 3, 4, 5, 6, 7, 8, 9]), array([178, 182, 177, 183, 181, 182, 181, 179, 174, 180]))\n"
          ]
        }
      ],
      "source": [
        "from sklearn import datasets\n",
        "digits = datasets.load_digits()\n",
        "X, y = digits.data, digits.target # X is np(1797,64) and y is np(1787,)\n",
        "import matplotlib.pyplot as plt\n",
        "%matplotlib inline\n",
        "# print digits.images which is a np(1797,8,8)\n",
        "for k,img in enumerate(range(10)):\n",
        "    plt.subplot(2, 5, k+1)\n",
        "    plt.imshow(digits.images[img], # print np.array(8,8) as images\n",
        "               cmap='binary', \n",
        "               interpolation='none')\n",
        "plt.show()\n",
        "import numpy as np\n",
        "z=np.unique(y, return_counts=True) # tuple of the frequencies of the values taken by y \n",
        "print(z)"
      ]
    },
    {
      "cell_type": "code",
      "execution_count": 194,
      "metadata": {
        "id": "F6uMr8vvPTSy",
        "colab": {
          "base_uri": "https://localhost:8080/"
        },
        "outputId": "f83dd914-5bd8-4ab9-a0d6-63a8c4adfa2f"
      },
      "outputs": [
        {
          "output_type": "stream",
          "name": "stdout",
          "text": [
            "CV average accuracy score: 0.981\n",
            "CV stdev score: 0.012\n",
            "Test accuracy score: 0.976\n"
          ]
        }
      ],
      "source": [
        "# By default C is fixed equal to 1 \n",
        "# so there is no hyperparameter to adjust\n",
        "# Cross Validation sets are used as test sets to check how the prediction error varies\n",
        "from sklearn.model_selection import train_test_split \n",
        "from sklearn.model_selection import cross_val_score\n",
        "from sklearn.preprocessing import MinMaxScaler\n",
        "from sklearn.svm import SVC\n",
        "X_tr, X_t, y_tr, y_t = train_test_split(X, y, \n",
        "                                        test_size= 0.3,\n",
        "                                      random_state=0)\n",
        "scaling = MinMaxScaler(feature_range=(-1, 1)).fit(X_tr) # calculate the renormalisation parameters\n",
        "X_tr = scaling.transform(X_tr) # renormalise X_tr (with the renormalisation parameters derived from X_tr)\n",
        "X_t = scaling.transform(X_t)# renormalise X_t (with the renormalisation parameters derived from X_tr)\n",
        "\n",
        "svc = SVC(kernel='linear', \n",
        "          class_weight='balanced',C=1) # C is 1 by default\n",
        "cv = cross_val_score(svc, X_tr, y_tr, cv=10) #cross validation on the training set by 10-fold\n",
        "test_score = svc.fit(X_tr, y_tr).score(X_t, y_t)\n",
        "print('CV average accuracy score: %0.3f' % np.mean(cv)) # average cross validation score \n",
        "print('CV stdev score: %0.3f' % np.std(cv)) # average cross validation score\n",
        "print('Test accuracy score: %0.3f' % (test_score)) # score sur le test set"
      ]
    },
    {
      "cell_type": "code",
      "execution_count": 195,
      "metadata": {
        "id": "L23RzdDlPTSz",
        "outputId": "0b2ac4f5-659d-4cd9-a25b-b905b6fda8b4",
        "colab": {
          "base_uri": "https://localhost:8080/"
        }
      },
      "outputs": [
        {
          "output_type": "stream",
          "name": "stdout",
          "text": [
            "CV accuracy score: 0.990\n",
            "Test accuracy score: 0.993\n",
            "Best C parameter: 10.0\n"
          ]
        }
      ],
      "source": [
        "# The search of C can be made by GridSearch\n",
        "from sklearn.model_selection  import GridSearchCV\n",
        "svc = SVC(class_weight='balanced', random_state=1) # random state to obtain the same split each time\n",
        "search_space = {'C': np.logspace(-3, 3, 7)} # defined as a dictionary\n",
        "gridsearch = GridSearchCV(svc, \n",
        "                          param_grid=search_space, \n",
        "                          scoring='accuracy', \n",
        "                          refit=True, cv=10) # the model is refit with the optimised parameters\n",
        "                          # based on 10-folds cross validation results\n",
        "gridsearch.fit(X_tr,y_tr)\n",
        "cv = gridsearch.best_score_ # \n",
        "test_score = gridsearch.score(X_t, y_t) #score using the optimised parameters from gridsearch on the test set\n",
        "best_c =  gridsearch.best_params_['C']\n",
        "print('CV accuracy score: %.3f' % cv) #average, with the best parameters, of the score of the leftouts \n",
        "print('Test accuracy score: %.3f' % test_score)\n",
        "print('Best C parameter: %.1f' % best_c)"
      ]
    },
    {
      "cell_type": "code",
      "source": [
        "# Confusion matrix for multiclasses\n",
        "import seaborn as sns\n",
        "from sklearn.metrics import confusion_matrix\n",
        "Pred=gridsearch.predict(X_t)\n",
        "cm = confusion_matrix(Pred, y_t)\n",
        "cm_df = pd.DataFrame(cm,\n",
        "                     index = np.arange(10), \n",
        "                    columns = np.arange(10))\n",
        "plt.figure(figsize=(5,4))\n",
        "plt.title(\"Confusion matrix SVC\")\n",
        "sns.heatmap(cm_df, annot=True)\n",
        "plt.show()"
      ],
      "metadata": {
        "colab": {
          "base_uri": "https://localhost:8080/",
          "height": 281
        },
        "id": "dIhGCQ6gvPnK",
        "outputId": "aa7a3447-2ccc-4119-bc14-9d76544296f6"
      },
      "execution_count": 196,
      "outputs": [
        {
          "output_type": "display_data",
          "data": {
            "text/plain": [
              "<Figure size 360x288 with 2 Axes>"
            ],
            "image/png": "[encoded data removed]"
          },
          "metadata": {
            "needs_background": "light"
          }
        }
      ]
    },
    {
      "cell_type": "markdown",
      "metadata": {
        "id": "b7Nl8_dhPTSz"
      },
      "source": [
        "## Gridsearch and Kfold\n",
        "\n",
        "\n",
        "\n"
      ]
    },
    {
      "cell_type": "code",
      "source": [
        "# The hypermaters are searched with GridSearch based on the\n",
        "# results of the cross validation\n",
        "# the choise of the kernel is also considered as an hyperparameter\n",
        "from sklearn.model_selection import GridSearchCV\n",
        "svc = SVC(class_weight='balanced', random_state=1)\n",
        "search_space = [{'kernel': ['linear'], \n",
        "                 'C': np.logspace(-3, 3, 7)},\n",
        "                {'kernel': ['rbf'], \n",
        "                 'C':np.logspace(-3, 3, 7), \n",
        "                 'gamma': np.logspace(-3, 2, 6)}] #The gamma parameter is the inverse of the standard \n",
        "                 # deviation of the RBF kernel\n",
        "gridsearch = GridSearchCV(svc, \n",
        "                          param_grid=search_space, \n",
        "                          scoring='accuracy', \n",
        "                          refit=True, cv=10,\n",
        "                          n_jobs=-1) # njobs = -1 means you want to use all the available cores \n",
        "                          # for parallel processing\n",
        "gridsearch.fit(X_tr, y_tr) # calibrations for the various hyperparameters\n",
        "cv = gridsearch.best_score_ # best score obtained on the average of the K_fold test sets\n",
        "test_score = gridsearch.score(X_t, y_t)\n",
        "print('CV accuracy best score: %0.3f' % cv)\n",
        "print('Accuracy score on the test set: %0.3f' % test_score)\n",
        "print('Best hyper-parameters: %s' % gridsearch.best_params_)"
      ],
      "metadata": {
        "colab": {
          "base_uri": "https://localhost:8080/"
        },
        "id": "TCNnc76oSAll",
        "outputId": "62ded9d1-6e21-4724-8537-d701d545da3f"
      },
      "execution_count": 197,
      "outputs": [
        {
          "output_type": "stream",
          "name": "stdout",
          "text": [
            "CV accuracy best score: 0.990\n",
            "Accuracy score on the test set: 0.993\n",
            "Best hyper-parameters: {'C': 1.0, 'gamma': 0.1, 'kernel': 'rbf'}\n"
          ]
        }
      ]
    },
    {
      "cell_type": "markdown",
      "source": [
        "## Visualisation Binary"
      ],
      "metadata": {
        "id": "2Ay2w2GRzIa1"
      }
    },
    {
      "cell_type": "code",
      "source": [
        "import matplotlib.pyplot as plt\n",
        "from sklearn import svm\n",
        "from sklearn.datasets import make_blobs\n",
        "\n",
        "X, y = make_blobs(n_samples=40, centers=2, random_state=6) #generate 40 random points\n",
        "# X contains the coordinates and y the class \n",
        "# fit the model, don't regularize for illustration purposes\n",
        "clf = svm.SVC(kernel=\"linear\", C=1000)\n",
        "clf.fit(X, y) \n",
        "plt.scatter(X[:, 0], X[:, 1], c=y, s=30, cmap=plt.cm.Paired) # plot the points\n",
        "# cmap associates a color to a number\n",
        "\n",
        "# plot support vectors\n",
        "plt.scatter(\n",
        "    clf.support_vectors_[:, 0],\n",
        "    clf.support_vectors_[:, 1],facecolors='none',edgecolors='g') # plot the support vectors for the two classes\n",
        "\n",
        "# separating hyperplane\n",
        "a=clf.coef_[0,0] \n",
        "b=clf.coef_[0,1]\n",
        "c=clf.intercept_[0]\n",
        "x1=np.min(X[:,0])\n",
        "x2=np.max(X[:,0])\n",
        "z1=(-a*x1-c)/b\n",
        "z2=(-a*x2-c)/b\n",
        "plt.plot([x1, x2], [z1, z2],color=\"green\")\n",
        "plt.title('Classification with SVC')\n",
        "plt.show()\n",
        "\n",
        "# probability associated to the points and representation\n",
        "import numpy as np \n",
        "def sig(x):\n",
        " return 1/(1 + np.exp(-x))\n",
        "z=clf.decision_function(X) #logit probability to be in class 1\n",
        "Pred= sig(z)\n",
        "plt.scatter(Pred,y)\n",
        "plt.xlabel(\"estimated probability to be in class 1\")\n",
        "plt.ylabel(\"real class\")\n",
        "plt.axvline(x = 0.5, color = 'r')\n",
        "plt.title(\"Probability from SVC\")\n",
        "plt.show()\n",
        "# Other functions:\n",
        "# clf.predict(X) # prediction of the class for an observation\n",
        "# clf.coef_ # coeff de w\n",
        "# clf.intercept_ #valeur de b"
      ],
      "metadata": {
        "id": "R4hdSKCdwfos",
        "outputId": "1a9f0244-0f30-4310-ca59-008b6acd6fe6",
        "colab": {
          "base_uri": "https://localhost:8080/",
          "height": 559
        }
      },
      "execution_count": 221,
      "outputs": [
        {
          "output_type": "display_data",
          "data": {
            "text/plain": [
              "<Figure size 432x288 with 1 Axes>"
            ],
            "image/png": "[encoded data removed]"
          },
          "metadata": {
            "needs_background": "light"
          }
        },
        {
          "output_type": "display_data",
          "data": {
            "text/plain": [
              "<Figure size 432x288 with 1 Axes>"
            ],
            "image/png": "[encoded data removed]"
          },
          "metadata": {
            "needs_background": "light"
          }
        }
      ]
    },
    {
      "cell_type": "markdown",
      "metadata": {
        "id": "mON6bIs_PTS0"
      },
      "source": [
        "# Comparing SVM algorithms"
      ]
    },
    {
      "cell_type": "markdown",
      "source": [
        "We compare here SVC with Linear SVC from sklearn"
      ],
      "metadata": {
        "id": "zu9_J_knVTy_"
      }
    },
    {
      "cell_type": "markdown",
      "source": [
        "### SVC against LinearSVC"
      ],
      "metadata": {
        "id": "Ks1qcGdh2ulk"
      }
    },
    {
      "cell_type": "code",
      "execution_count": 199,
      "metadata": {
        "id": "7EVUr2E-PTS0",
        "outputId": "b7cf01d0-6512-497b-ad6e-d9f5423557ae",
        "colab": {
          "base_uri": "https://localhost:8080/"
        }
      },
      "outputs": [
        {
          "output_type": "stream",
          "name": "stderr",
          "text": [
            "/usr/local/lib/python3.7/dist-packages/sklearn/svm/_base.py:1208: ConvergenceWarning: Liblinear failed to converge, increase the number of iterations.\n",
            "  ConvergenceWarning,\n"
          ]
        },
        {
          "output_type": "stream",
          "name": "stdout",
          "text": [
            "SVC test accuracy: 0.803\n",
            "LinearSVC test accuracy: 0.805\n"
          ]
        }
      ],
      "source": [
        "from sklearn.datasets import make_classification\n",
        "from sklearn.model_selection import train_test_split\n",
        "import numpy as np\n",
        "X,y = make_classification(n_samples=10**4, \n",
        "                          n_features=15, \n",
        "                          n_informative=10, \n",
        "                          random_state=101) # create an example\n",
        "X_tr, X_t, y_tr, y_t = train_test_split(X, y, \n",
        "                                        test_size=0.3, \n",
        "                                        random_state=1)\n",
        "\n",
        "from sklearn.svm import SVC, LinearSVC\n",
        "svc = SVC(kernel='linear', random_state=1)\n",
        "linear = LinearSVC(loss='hinge', random_state=1)# the hinge loss function as for effect to classify\n",
        "\n",
        "svc.fit(X_tr, y_tr)\n",
        "linear.fit(X_tr, y_tr)\n",
        "svc_score = svc.score(X_t, y_t)\n",
        "libsvc_score = linear.score(X_t, y_t)\n",
        "print('SVC test accuracy: %0.3f' % svc_score)\n",
        "print('LinearSVC test accuracy: %0.3f' % libsvc_score)"
      ]
    },
    {
      "cell_type": "code",
      "execution_count": 200,
      "metadata": {
        "id": "Sou6BGw7PTS0",
        "outputId": "8450bc25-d021-4a0f-d84f-74bdf5f7a969",
        "colab": {
          "base_uri": "https://localhost:8080/"
        }
      },
      "outputs": [
        {
          "output_type": "stream",
          "name": "stdout",
          "text": [
            "best avg secs for SVC: 12.4\n",
            "best avg secs for LinearSVC: 0.2\n"
          ]
        },
        {
          "output_type": "stream",
          "name": "stderr",
          "text": [
            "/usr/local/lib/python3.7/dist-packages/sklearn/svm/_base.py:1208: ConvergenceWarning: Liblinear failed to converge, increase the number of iterations.\n",
            "  ConvergenceWarning,\n"
          ]
        }
      ],
      "source": [
        "import timeit\n",
        "X,y = make_classification(n_samples=10**4, \n",
        "                          n_features=15, \n",
        "                          n_informative=10, \n",
        "                          random_state=101)\n",
        "t_svc = timeit.timeit('svc.fit(X, y)',\n",
        "                      'from __main__ import svc, X, y', \n",
        "                      number=1) # measure time to do it once\n",
        "t_libsvc = timeit.timeit('linear.fit(X, y)',\n",
        "                         'from __main__ import linear, X, y', \n",
        "                         number=1) # measure time to do it once\n",
        "print('best avg secs for SVC: %0.1f' % np.mean(t_svc))\n",
        "print('best avg secs for LinearSVC: %0.1f' % np.mean(t_libsvc))"
      ]
    },
    {
      "cell_type": "markdown",
      "source": [
        "### SGD applied to classification models"
      ],
      "metadata": {
        "id": "pA0jdT1o4AVo"
      }
    },
    {
      "cell_type": "code",
      "execution_count": 202,
      "metadata": {
        "id": "Ta5WSZYnPTS1",
        "outputId": "aa6d4994-04ee-4fc7-cfdf-569d3b335afb",
        "colab": {
          "base_uri": "https://localhost:8080/"
        }
      },
      "outputs": [
        {
          "output_type": "stream",
          "name": "stdout",
          "text": [
            "SGDClassifier test accuracy: 0.769\n",
            "Avg time for SGDClassifier: 0.1 secs\n"
          ]
        }
      ],
      "source": [
        "from sklearn.linear_model import SGDClassifier\n",
        "sgd = SGDClassifier(loss='hinge',\n",
        "                    max_iter=100, \n",
        "                    shuffle=True, \n",
        "                    random_state=101)\n",
        "sgd.fit(X_tr, y_tr)\n",
        "score = sgd.score(X_t, y_t)\n",
        "t = timeit.timeit(\"sgd.fit(X_tr, y_tr)\", \n",
        "                  \"from __main__ import sgd, X_tr, y_tr\", \n",
        "                  number=1)\n",
        "print('SGDClassifier test accuracy: %0.3f' % score)\n",
        "print('Avg time for SGDClassifier: %0.1f secs' % np.mean(t))"
      ]
    },
    {
      "cell_type": "markdown",
      "metadata": {
        "id": "koS30TvoPTS1"
      },
      "source": [
        "# Neural networks"
      ]
    },
    {
      "cell_type": "code",
      "execution_count": 203,
      "metadata": {
        "id": "mb1turTCPTS1"
      },
      "outputs": [],
      "source": [
        "from sklearn.model_selection import train_test_split \n",
        "from sklearn.model_selection import cross_val_score\n",
        "from sklearn.preprocessing import MinMaxScaler\n",
        "from sklearn import datasets\n",
        "from sklearn.neural_network import MLPClassifier"
      ]
    },
    {
      "cell_type": "code",
      "execution_count": 204,
      "metadata": {
        "id": "uIjd4ydJPTS1"
      },
      "outputs": [],
      "source": [
        "digits = datasets.load_digits()\n",
        "X, y = digits.data, digits.target\n",
        "X_tr, X_t, y_tr, y_t = train_test_split(X, y, \n",
        "                                        test_size=0.3, \n",
        "                                        random_state=0)\n",
        "scaling = MinMaxScaler(feature_range=(-1, 1)).fit(X_tr)\n",
        "X_tr = scaling.transform(X_tr)\n",
        "X_t = scaling.transform(X_t)"
      ]
    },
    {
      "cell_type": "code",
      "execution_count": 205,
      "metadata": {
        "id": "slPpbTbKPTS1"
      },
      "outputs": [],
      "source": [
        "nn = MLPClassifier(hidden_layer_sizes=(512, ), \n",
        "                   activation='relu', \n",
        "                   solver='adam',\n",
        "                   shuffle=True,\n",
        "                   tol=1e-4,\n",
        "                   random_state=1)"
      ]
    },
    {
      "cell_type": "code",
      "execution_count": 206,
      "metadata": {
        "id": "HH0b2fIFPTS1",
        "outputId": "6a7ec1a4-7295-41a0-f40a-66ccfc4c60b1",
        "colab": {
          "base_uri": "https://localhost:8080/"
        }
      },
      "outputs": [
        {
          "output_type": "stream",
          "name": "stdout",
          "text": [
            "CV accuracy score: 0.979\n",
            "Test accuracy score: 0.981\n"
          ]
        }
      ],
      "source": [
        "cv = cross_val_score(nn, X_tr, y_tr, cv=10)\n",
        "test_score = nn.fit(X_tr, y_tr).score(X_t, y_t)\n",
        "print('CV accuracy score: %0.3f' % np.mean(cv))\n",
        "print('Test accuracy score: %0.3f' % (test_score))"
      ]
    }
  ],
  "metadata": {
    "kernelspec": {
      "display_name": "Python 3",
      "name": "python3"
    },
    "language_info": {
      "name": "python"
    },
    "colab": {
      "provenance": [],
      "collapsed_sections": [],
      "include_colab_link": true
    }
  },
  "nbformat": 4,
  "nbformat_minor": 0
}